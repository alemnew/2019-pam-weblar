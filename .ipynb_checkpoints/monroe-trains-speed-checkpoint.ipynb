{
 "cells": [
  {
   "cell_type": "code",
   "execution_count": 126,
   "metadata": {},
   "outputs": [],
   "source": [
    "# imports and env't config \n",
    "import numpy as np\n",
    "import pandas as pd\n",
    "import matplotlib.pyplot as plt\n",
    "import matplotlib.gridspec as gridspec\n",
    "import json\n",
    "import requests \n",
    "from imp import reload \n",
    "import seaborn as sns\n",
    "import Util as util; reload(util)\n",
    "import warnings\n",
    "from matplotlib.ticker import FuncFormatter\n",
    "import time \n",
    "import operator\n",
    "import shutil\n",
    "import os\n",
    "import Cdf\n",
    "import Pmf\n",
    "warnings.filterwarnings('ignore')\n",
    "%matplotlib inline"
   ]
  },
  {
   "cell_type": "code",
   "execution_count": 18,
   "metadata": {},
   "outputs": [],
   "source": [
    "DIR = '../../dataset/2018-weblar/nsb-gps/'"
   ]
  },
  {
   "cell_type": "code",
   "execution_count": 47,
   "metadata": {},
   "outputs": [],
   "source": [
    "nsb_monroe_out = open(DIR + \"/nsb_monroe.csv\", \"w\")\n",
    "df = pd.DataFrame()\n",
    "for i in os.listdir(DIR):\n",
    "    if not os.path.isdir(DIR + \"/\" + i) or os.listdir(DIR + \"/\" + i) == \"\":\n",
    "        continue \n",
    "    path = DIR + \"/\" + i + \"/\"\n",
    "    train_id = i.split()[0]\n",
    "    for p in os.listdir(path):\n",
    "        daily_df = path + p\n",
    "        _df = pd.read_csv(daily_df, sep = ',', encoding = \"ISO-8859-1\")\n",
    "        _df['train_id'] = train_id\n",
    "        if len(df.columns) == 0:\n",
    "            df = _df[['unix_time', 'gps_lat', 'gps_long', 'gps_speed', 'train_id']]\n",
    "        else:\n",
    "            frames = [df, _df[['unix_time', 'gps_lat', 'gps_long', 'gps_speed', 'train_id']]]\n",
    "            df = pd.concat(frames)\n",
    "df.to_csv(nsb_monroe_out, sep=',', index = False, encoding = \"ISO-8859-1\")"
   ]
  },
  {
   "cell_type": "code",
   "execution_count": 73,
   "metadata": {},
   "outputs": [],
   "source": [
    "nsb_mon_df = pd.read_csv(DIR + \"/nsb_monroe.csv\", sep = ',', encoding = \"ISO-8859-1\")\n",
    "# nsb_mon_df = nsb_mon_df[nsb_mon_df['gps_speed'] > 0]"
   ]
  },
  {
   "cell_type": "code",
   "execution_count": 74,
   "metadata": {},
   "outputs": [],
   "source": [
    "web_df = pd.read_csv(util.dataset, sep = ',', encoding = \"ISO-8859-1\")\n"
   ]
  },
  {
   "cell_type": "code",
   "execution_count": 90,
   "metadata": {},
   "outputs": [
    {
     "name": "stdout",
     "output_type": "stream",
     "text": [
      "75-55\n",
      "0.0\n"
     ]
    }
   ],
   "source": [
    "def get_train_id(node_id):\n",
    "    if node_id in util.nsb_monroe:\n",
    "        return(util.nsb_monroe[node_id])\n",
    "    else:\n",
    "        return('')\n",
    "def get_speed(node_id, ts):\n",
    "    train_id = get_train_id(node_id)\n",
    "    nsb = nsb_mon_df[nsb_mon_df['train_id'] == train_id]\n",
    "    nsb = nsb[nsb['unix_time'] <= ts/1000  + 60]\n",
    "    nsb_ts = nsb[nsb['unix_time'] >= ts/1000 - 60]\n",
    "    \n",
    "    if len(nsb_ts.index) > 0:\n",
    "        return(np.mean(nsb_ts['gps_speed']))\n",
    "    else:\n",
    "        return(-1)\n",
    "train_id = get_train_id(553)\n",
    "print(train_id)\n",
    "print(get_speed(255,1524088860000))"
   ]
  },
  {
   "cell_type": "code",
   "execution_count": 93,
   "metadata": {},
   "outputs": [],
   "source": [
    "web_df['train_id'] = web_df['node_id'].apply(lambda x: get_train_id(x))\n",
    "web_df_new = pd.DataFrame()\n",
    "for n in set(web_df['node_id']):\n",
    "    web_df_n = web_df[web_df['node_id'] == n]\n",
    "    web_df_n['gps_speed'] = web_df_n['rend_start_time'].apply(lambda x: get_speed(n, x))\n",
    "    if len(web_df_new.columns) == 0:\n",
    "        web_df_new = web_df_n\n",
    "    else:\n",
    "        frames = [web_df_new, web_df_n]\n",
    "        web_df_new = pd.concat(frames)\n",
    "        \n",
    "web_df_new.to_csv('../../dataset/2018-weblar/monroe_weblar_merged_with_speed', \\\n",
    "                  sep=',', index = False, encoding = \"ISO-8859-1\")"
   ]
  },
  {
   "cell_type": "code",
   "execution_count": 124,
   "metadata": {},
   "outputs": [
    {
     "data": {
      "text/plain": [
       "422"
      ]
     },
     "execution_count": 124,
     "metadata": {},
     "output_type": "execute_result"
    }
   ],
   "source": [
    "df = pd.read_csv('../../dataset/2018-weblar/monroe_weblar_merged_with_speed',\\\n",
    "                         sep = ',', encoding = \"ISO-8859-1\")\n",
    "\n",
    "df = df[df['operator'] != 'ice.net']\n",
    "df = df[df['operator'] != 'Telenor']\n",
    "df['operator'] = df['operator'].apply(lambda x: util.change_op_cc(x))\n",
    "df = df[df['url'] != 'https://www.ebay.com/']\n",
    "df = df[df['url'] != 'https://www.amazon.com/']\n",
    "df['url'] = df['url'].apply(lambda x: util.get_base_url_name(x))\n",
    "df['min_as_path_len'] = df['ases'].apply(lambda x: util.count_ases(x))\n",
    "df['num_cell_id_change'] = df['cell_id'].apply(lambda x: util.count_cid_change(x))\n",
    "df['cid_group'] = df['num_cell_id_change'].apply(lambda x: util.group_cid_change(x))\n",
    "\n",
    "df = df[df['3sec_rendering_time'] > 0]\n",
    "df = df[df['10sec_rendering_time'] > 0]\n",
    "df = df[df['14sec_rendering_time'] > 0]\n",
    "df = df[df['atf_integral'] > 0]\n",
    "df = df[df['atf_instant'] > 0]\n",
    "\n",
    "df['3sec_rendering_time'] = df['3sec_rendering_time'].div(1000)\n",
    "df['10sec_rendering_time'] = df['10sec_rendering_time'].div(1000)\n",
    "df['14sec_rendering_time'] = df['14sec_rendering_time'].div(1000)\n",
    "df['atf_instant'] = df['atf_instant'].div(1000)\n",
    "df['atf_integral'] = df['atf_integral'].div(1000)\n",
    "df['tcpConct'] = df['tcpConct'].div(1000)\n",
    "df['dnsLookup'] = df['dnsLookup'].div(1000)\n",
    "df['ttfb'] = df['ttfb'].div(1000)\n",
    "df['pltStart'] = df['pltStart'].div(1000)\n",
    "df['pltUserTime'] = df['pltUserTime'].div(1000)\n",
    "df['object_size_total'] = df['object_size_total'].apply(lambda x: x/1024) #MB\n",
    "df['object_size_total'] = df['object_size_total'].apply(lambda x: x/1024)\n",
    "\n",
    "web_df_mobile = df[df['gps_speed'] > 0]\n",
    "web_df_mobile[['measurement_id', 'pltUserTime', 'node_id',  'gps_speed']]\n",
    "\n",
    "targets = set(web_df_mobile['url'])\n",
    "len(web_df_mobile.index)"
   ]
  },
  {
   "cell_type": "code",
   "execution_count": 127,
   "metadata": {},
   "outputs": [
    {
     "data": {
      "image/png": "[encoded data removed]",
      "text/plain": [
       "<Figure size 432x288 with 4 Axes>"
      ]
     },
     "metadata": {},
     "output_type": "display_data"
    }
   ],
   "source": [
    "gs = gridspec.GridSpec(4,2, width_ratios=[5, 5], height_ratios=[16, 16, 10,8])\n",
    "ax1 = plt.subplot(gs[0])\n",
    "ax2 = plt.subplot(gs[1])\n",
    "ax3 = plt.subplot(gs[2])\n",
    "ax4 = plt.subplot(gs[3])\n",
    "\n",
    "for o in targets:\n",
    "    df_o = web_df_mobile[web_df_mobile['url'] == o]\n",
    "\n",
    "    atf_instant = df_o['pltUserTime']\n",
    "    rendeirng_time = df_o['3sec_rendering_time']\n",
    "    plt = df_o['pltUserTime']\n",
    "    num_cid_chng = df_o['gps_speed']\n",
    "    \n",
    "    ax1.scatter(num_cid_chng, plt, c=util.C[o], alpha=0.5)\n",
    "    ax2.scatter(num_cid_chng, rendeirng_time, c=util.C[o], alpha=0.5)\n",
    "    \n",
    "# ax2.set_ylim([1, 15])\n",
    "# ax1.set_xlim([1, 15])\n",
    "ax1.set_yscale('log', basey = 2)\n"
   ]
  },
  {
   "cell_type": "code",
   "execution_count": null,
   "metadata": {},
   "outputs": [],
   "source": []
  }
 ],
 "metadata": {
  "kernelspec": {
   "display_name": "Python 3",
   "language": "python",
   "name": "python3"
  },
  "language_info": {
   "codemirror_mode": {
    "name": "ipython",
    "version": 3
   },
   "file_extension": ".py",
   "mimetype": "text/x-python",
   "name": "python",
   "nbconvert_exporter": "python",
   "pygments_lexer": "ipython3",
   "version": "3.6.5"
  }
 },
 "nbformat": 4,
 "nbformat_minor": 2
}
