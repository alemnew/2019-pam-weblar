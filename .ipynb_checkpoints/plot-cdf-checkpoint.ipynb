{
 "cells": [
  {
   "cell_type": "code",
   "execution_count": 96,
   "metadata": {},
   "outputs": [],
   "source": [
    "# imports and env't config \n",
    "import numpy as np\n",
    "import pandas as pd\n",
    "import matplotlib.pyplot as plt\n",
    "import matplotlib.gridspec as gridspec\n",
    "import json\n",
    "import requests \n",
    "from imp import reload \n",
    "import seaborn as sns\n",
    "import Util as util; reload(util)\n",
    "import warnings\n",
    "from matplotlib.ticker import FuncFormatter\n",
    "import matplotlib.ticker as ticker\n",
    "import time \n",
    "\n",
    "import Cdf\n",
    "import Pmf\n",
    "warnings.filterwarnings('ignore')\n",
    "%matplotlib inline"
   ]
  },
  {
   "cell_type": "code",
   "execution_count": 97,
   "metadata": {},
   "outputs": [],
   "source": [
    "# data = pd.read_csv(util.dataset, sep = ',', encoding = \"ISO-8859-1\")\n",
    "apr = pd.read_csv('../../dataset/2018-weblar/monroe_weblar_merged_201804.csv', sep = ',', encoding = \"ISO-8859-1\")\n",
    "jul = pd.read_csv('../../dataset/2018-weblar/monroe_weblar_merged_201807.csv', sep = ',', encoding = \"ISO-8859-1\")\n",
    "apr['atf'] = -1\n",
    "apr['tlsHandshake'] = -1\n",
    "\n",
    "frames = [apr, jul]\n",
    "df = pd.concat(frames, ignore_index =  True)\n",
    "\n",
    "df = df[df['operator'] != 'ice.net']\n",
    "df = df[df['operator'] != 'Telenor']\n",
    "df['operator'] = df['operator'].apply(lambda x: util.change_op_cc(x))\n",
    "df = df[df['url'] != 'https://www.ebay.com/']\n",
    "df = df[df['url'] != 'https://www.amazon.com/']\n",
    "df['url'] = df['url'].apply(lambda x: util.get_base_url_name(x))\n",
    "\n",
    "df = df[df['3sec_rendering_time'] > 0]\n",
    "df = df[df['10sec_rendering_time'] > 0]\n",
    "df = df[df['14sec_rendering_time'] > 0]\n",
    "df = df[df['atf_integral'] > 0]\n",
    "df = df[df['atf_instant'] > 0]\n",
    "\n",
    "# df['3sec_rendering_time'] = df['3sec_rendering_time'].div(1000)\n",
    "# df['10sec_rendering_time'] = df['10sec_rendering_time'].div(1000)\n",
    "# df['14sec_rendering_time'] = df['14sec_rendering_time'].div(1000)\n",
    "# df['atf_instant'] = df['atf_instant'].div(1000)\n",
    "# df['atf_integral'] = df['atf_integral'].div(1000)\n",
    "# df['tcpConct'] = df['tcpConct'].div(1000)\n",
    "# df['dnsLookup'] = df['dnsLookup'].div(1000)\n",
    "# df['ttfb'] = df['ttfb'].div(1000)\n",
    "# df['pltStart'] = df['pltStart'].div(1000)\n",
    "# df['pltUserTime'] = df['pltUserTime'].div(1000)\n",
    "df['object_size_total'] = df['object_size_total'].apply(lambda x: x/1024) #MB\n",
    "df['object_size_total'] = df['object_size_total'].apply(lambda x: x/1024)\n",
    "\n",
    "speed_df = pd.read_csv('../../dataset/2018-weblar/monroe_weblar_merged_with_speed.csv', sep = ',', encoding = \"ISO-8859-1\")\n",
    "speed_df = speed_df[speed_df['gps_speed'] > 0]\n",
    "mobile_msmt_id = set(speed_df['measurement_id'])\n",
    "df_se_mobile = df[df['node_id'].isin(util.se_mobile)]\n",
    "mobile_msmt_id = mobile_msmt_id.union(set(df_se_mobile['measurement_id']))\n",
    "\n",
    "df['is_mobile'] = df['measurement_id'].apply(lambda x: util.is_from_mobile(x, mobile_msmt_id))\n",
    "\n",
    "\n",
    "df_mobile = df[df['measurement_id'].isin(mobile_msmt_id)]\n",
    "df_stationary = df[~df['measurement_id'].isin(mobile_msmt_id)] #isnot in\n",
    "\n",
    "df_no_mobile = df[df['node_id'].isin(util.no_mobile)]\n",
    "df_se_mobile = df[df['node_id'].isin(util.se_mobile)]\n",
    "df_no_stationary = df[df['node_id'].isin(util.no_stationary)]\n",
    "df_se_stationary = df[df['node_id'].isin(util.se_stationary)]"
   ]
  },
  {
   "cell_type": "code",
   "execution_count": 98,
   "metadata": {},
   "outputs": [
    {
     "data": {
      "text/plain": [
       "object_size_total       6777\n",
       "as_holders              6680\n",
       "locaton_area_code       6777\n",
       "bi_atf                  6777\n",
       "ii_plt                  6777\n",
       "operator                6777\n",
       "atf_integral            6777\n",
       "number_of_img           6777\n",
       "10sec_rendering_time    6777\n",
       "rsrq                    6777\n",
       "rsrp                    6777\n",
       "count_pixels            6777\n",
       "bi_plt                  6777\n",
       "object_size_img         6777\n",
       "radio_technology        6777\n",
       "tlsHandshake            6777\n",
       "ip_ttl                  6777\n",
       "14sec_rendering_time    6777\n",
       "atf_instant             6777\n",
       "oi_atf                  6777\n",
       "serverResponseTime      6777\n",
       "ttfb                    6777\n",
       "3sec_rendering_time     6777\n",
       "fetchTime               6777\n",
       "cell_id                 6777\n",
       "ases                    6680\n",
       "ii_atf                  6777\n",
       "node_id                 6777\n",
       "img_atf                 6777\n",
       "number_of_total         6777\n",
       "number_of_misc          6777\n",
       "pltStart                6777\n",
       "number_of_script        6777\n",
       "atf                     6777\n",
       "object_size_script      6777\n",
       "requestTime             6777\n",
       "pltUserTime             6777\n",
       "dom                     6777\n",
       "url                     6777\n",
       "object_size_css         6777\n",
       "dnsLookup               6777\n",
       "measurement_id          6777\n",
       "rend_start_time         6777\n",
       "number_of_css           6777\n",
       "object_size_misc        6777\n",
       "oi_plt                  6777\n",
       "rssi                    6777\n",
       "tcpConct                6777\n",
       "dtype: int64"
      ]
     },
     "execution_count": 98,
     "metadata": {},
     "output_type": "execute_result"
    }
   ],
   "source": [
    "jul.count()"
   ]
  },
  {
   "cell_type": "code",
   "execution_count": 99,
   "metadata": {},
   "outputs": [
    {
     "data": {
      "text/html": [
       "<div>\n",
       "<style scoped>\n",
       "    .dataframe tbody tr th:only-of-type {\n",
       "        vertical-align: middle;\n",
       "    }\n",
       "\n",
       "    .dataframe tbody tr th {\n",
       "        vertical-align: top;\n",
       "    }\n",
       "\n",
       "    .dataframe thead th {\n",
       "        text-align: right;\n",
       "    }\n",
       "</style>\n",
       "<table border=\"1\" class=\"dataframe\">\n",
       "  <thead>\n",
       "    <tr style=\"text-align: right;\">\n",
       "      <th></th>\n",
       "      <th>cell_id</th>\n",
       "      <th>locaton_area_code</th>\n",
       "      <th>rssi</th>\n",
       "      <th>rsrp</th>\n",
       "      <th>rsrq</th>\n",
       "    </tr>\n",
       "  </thead>\n",
       "  <tbody>\n",
       "    <tr>\n",
       "      <th>14</th>\n",
       "      <td>28718854, 28718852, 28718854, 28718852, 28718849</td>\n",
       "      <td>65535</td>\n",
       "      <td>-77, -79, -81, -81, -79, -81, -81, -81, -84, -...</td>\n",
       "      <td>-107, -104, -108, -109, -103, -106, -110, -113...</td>\n",
       "      <td>-10, -9, -8, -9, -10, -9, -11, -10, -9, -8, -9...</td>\n",
       "    </tr>\n",
       "    <tr>\n",
       "      <th>21</th>\n",
       "      <td>21124610, 21124608, 17265921, 21124608, 172684...</td>\n",
       "      <td>65535</td>\n",
       "      <td>-48, -48, -48, -57, -57, -63, -63, -61, -61, -...</td>\n",
       "      <td>-73, -77, -79, -89, -91, -92, -77, -87, -90, -...</td>\n",
       "      <td>-8, -10, -14, -8, -9, -12, -7, -9, -10, -7, -8...</td>\n",
       "    </tr>\n",
       "    <tr>\n",
       "      <th>38</th>\n",
       "      <td>33352972, 33324832, 34382358, 33324832, 343823...</td>\n",
       "      <td>65535</td>\n",
       "      <td>-62, -69, -63, -61, -67, -58, -58, -68, -61, -...</td>\n",
       "      <td>-84, -88, -86, -87, -88, -85, -91, -87, -86, -...</td>\n",
       "      <td>-7, -8, -7, -10, -7, -8, -10, -9, -8, -12, -10...</td>\n",
       "    </tr>\n",
       "    <tr>\n",
       "      <th>42</th>\n",
       "      <td>25679903, 25677845, 25756191, 25677835, 274908...</td>\n",
       "      <td>65535</td>\n",
       "      <td>-58, -58, -61, -61, -65, -70, -70, -70, -70, -...</td>\n",
       "      <td>-77, -92, -90, -94, -100, -105, -103, -98, -95...</td>\n",
       "      <td>-7, -11, -9, -13, -15, -10, -9, -8, -6, -7, -6...</td>\n",
       "    </tr>\n",
       "    <tr>\n",
       "      <th>75</th>\n",
       "      <td>33428502, 33969942, 33969932, 33963788, 339699...</td>\n",
       "      <td>65535</td>\n",
       "      <td>-71, -71, -75, -75, -75, -75, -73, -75, -75, -...</td>\n",
       "      <td>-104, -111, -106, -110, -112, -109, -110, -108...</td>\n",
       "      <td>-14, -20, -13, -19, -20, -14, -19, -20, -15, -...</td>\n",
       "    </tr>\n",
       "  </tbody>\n",
       "</table>\n",
       "</div>"
      ],
      "text/plain": [
       "                                              cell_id  locaton_area_code  \\\n",
       "14   28718854, 28718852, 28718854, 28718852, 28718849              65535   \n",
       "21  21124610, 21124608, 17265921, 21124608, 172684...              65535   \n",
       "38  33352972, 33324832, 34382358, 33324832, 343823...              65535   \n",
       "42  25679903, 25677845, 25756191, 25677835, 274908...              65535   \n",
       "75  33428502, 33969942, 33969932, 33963788, 339699...              65535   \n",
       "\n",
       "                                                 rssi  \\\n",
       "14  -77, -79, -81, -81, -79, -81, -81, -81, -84, -...   \n",
       "21  -48, -48, -48, -57, -57, -63, -63, -61, -61, -...   \n",
       "38  -62, -69, -63, -61, -67, -58, -58, -68, -61, -...   \n",
       "42  -58, -58, -61, -61, -65, -70, -70, -70, -70, -...   \n",
       "75  -71, -71, -75, -75, -75, -75, -73, -75, -75, -...   \n",
       "\n",
       "                                                 rsrp  \\\n",
       "14  -107, -104, -108, -109, -103, -106, -110, -113...   \n",
       "21  -73, -77, -79, -89, -91, -92, -77, -87, -90, -...   \n",
       "38  -84, -88, -86, -87, -88, -85, -91, -87, -86, -...   \n",
       "42  -77, -92, -90, -94, -100, -105, -103, -98, -95...   \n",
       "75  -104, -111, -106, -110, -112, -109, -110, -108...   \n",
       "\n",
       "                                                 rsrq  \n",
       "14  -10, -9, -8, -9, -10, -9, -11, -10, -9, -8, -9...  \n",
       "21  -8, -10, -14, -8, -9, -12, -7, -9, -10, -7, -8...  \n",
       "38  -7, -8, -7, -10, -7, -8, -10, -9, -8, -12, -10...  \n",
       "42  -7, -11, -9, -13, -15, -10, -9, -8, -6, -7, -6...  \n",
       "75  -14, -20, -13, -19, -20, -14, -19, -20, -15, -...  "
      ]
     },
     "execution_count": 99,
     "metadata": {},
     "output_type": "execute_result"
    }
   ],
   "source": [
    "df_mobile[['cell_id', 'locaton_area_code', 'rssi', 'rsrp', 'rsrq']].head()"
   ]
  },
  {
   "cell_type": "code",
   "execution_count": 100,
   "metadata": {},
   "outputs": [
    {
     "data": {
      "text/plain": [
       "{65535}"
      ]
     },
     "execution_count": 100,
     "metadata": {},
     "output_type": "execute_result"
    }
   ],
   "source": [
    "set(df['locaton_area_code'])"
   ]
  },
  {
   "cell_type": "code",
   "execution_count": 101,
   "metadata": {},
   "outputs": [],
   "source": [
    "targets = set(df['url'])\n",
    "operators = set(df['operator'])"
   ]
  },
  {
   "cell_type": "markdown",
   "metadata": {},
   "source": [
    "## All paramters "
   ]
  },
  {
   "cell_type": "code",
   "execution_count": 102,
   "metadata": {},
   "outputs": [
    {
     "data": {
      "image/png": "[encoded data removed]",
      "text/plain": [
       "<Figure size 288x288 with 8 Axes>"
      ]
     },
     "metadata": {},
     "output_type": "display_data"
    }
   ],
   "source": [
    "fig, axs = plt.subplots(4, 2, figsize=(4,4))\n",
    "\n",
    "row = 0\n",
    "col = 0\n",
    "for t in sorted(targets):\n",
    "    df_t = df[df['url'] == t]\n",
    "    rendeirng_time = df_t['3sec_rendering_time']\n",
    "    atf_instant = df_t['atf_instant']\n",
    "    onload = df_t['pltUserTime']\n",
    "\n",
    "    \n",
    "    cdf_ren = Cdf.MakeCdfFromList(rendeirng_time)\n",
    "    cdf_inst = Cdf.MakeCdfFromList(atf_instant)\n",
    "    cdf_plt = Cdf.MakeCdfFromList(onload)\n",
    "\n",
    "    \n",
    "    axs[row, col].plot(cdf_ren.xs, cdf_ren.ps, marker= '.', linewidth=2, markersize=1, \\\n",
    "             fillstyle='none', color = 'C0')\n",
    "    axs[row, col].plot(cdf_inst.xs, cdf_inst.ps, marker= '+', linewidth=1, markersize=1, \\\n",
    "             fillstyle='none', color = 'C1')\n",
    "    axs[row, col].plot(cdf_plt.xs, cdf_plt.ps, marker= 'x', linewidth=1, markersize=1, \\\n",
    "             fillstyle='none', color = 'C2')\n",
    "    \n",
    "    axs[row, col].set_title(t, fontsize = 12, position=(0.25, 0.75))\n",
    "    \n",
    "    if row == 0 and col == 0:\n",
    "        leg = axs[row, col].legend(['ATF$_p$ Time', 'ATF$_b$ Time','PLT'], fontsize=12, markerscale=7., \\\n",
    "                               loc='top',  frameon=False, ncol=3, bbox_to_anchor=(2.35, 1.9))\n",
    "        for legobj in leg.legendHandles:\n",
    "            legobj.set_linewidth(1.5)\n",
    "   \n",
    "    # boarder in the top and right \n",
    "    axs[row,col].spines['right'].set_color('none')\n",
    "    axs[row,col].spines['top'].set_color('none')\n",
    "    axs[row,col].yaxis.set_ticks_position('left')\n",
    "    axs[row,col].xaxis.set_ticks_position('bottom')\n",
    "    axs[row,col].spines['bottom'].set_position(('axes', -0.05))\n",
    "    axs[row,col].spines['left'].set_position(('axes', -0.05))\n",
    "    \n",
    "#     axs[row,col].grid(True)\n",
    "    axs[row,col].set_xlim([1000,30000])\n",
    "    axs[row,col].set_xscale('log', basex = 10)\n",
    "    formatter = FuncFormatter(lambda y, _: '{:.16g}'.format(y))\n",
    "    axs[row,col].xaxis.set_major_formatter(formatter)\n",
    "    start, end = axs[row,col].get_ylim()\n",
    "    axs[row,col].yaxis.set_ticks(np.arange(start, end, 0.5))\n",
    "    axs[row,col].yaxis.set_major_formatter(ticker.FormatStrFormatter('%0.1f'))\n",
    "    \n",
    "    if row == 3:\n",
    "        axs[row,col].set_xlabel('Time (ms)', fontsize=12)\n",
    "    if col == 0:\n",
    "        axs[row,col].set_ylabel('CDF', fontsize=12)\n",
    "        \n",
    "    if row != 3:\n",
    "        axs[row,col].axes.xaxis.set_ticklabels([])\n",
    "    if col != 0:\n",
    "        axs[row,col].axes.yaxis.set_ticklabels([])\n",
    "    \n",
    "    # control row and column for the figure grid \n",
    "    if col >= 1:\n",
    "        row += 1\n",
    "        col = 0\n",
    "    else:\n",
    "        col += 1\n",
    "fig.subplots_adjust(hspace = 0.5)\n",
    "fig.subplots_adjust(wspace = 0.15)\n",
    "plt.savefig('../gfx/cdf_rendering_atf_plt_per_website.pdf', format='pdf', bbox_inches='tight')"
   ]
  },
  {
   "cell_type": "code",
   "execution_count": 103,
   "metadata": {},
   "outputs": [
    {
     "data": {
      "image/png": "[encoded data removed]",
      "text/plain": [
       "<Figure size 360x360 with 8 Axes>"
      ]
     },
     "metadata": {},
     "output_type": "display_data"
    }
   ],
   "source": [
    "fig, axs = plt.subplots(4, 2, figsize=(5, 5))\n",
    "\n",
    "row = 0\n",
    "col = 0\n",
    "for t in sorted(targets):\n",
    "    df_t = df[df['url'] == t]\n",
    "    var_mob_rend = df_t[df_t['is_mobile'] == 1]['3sec_rendering_time']\n",
    "    var_st_rend = df_t[df_t['is_mobile'] == 0]['3sec_rendering_time']\n",
    "    \n",
    "    var_mob_plt = df_t[df_t['is_mobile'] == 1]['pltUserTime']\n",
    "    var_st_plt = df_t[df_t['is_mobile'] == 0]['pltUserTime']\n",
    "    \n",
    "    var_mob_atf = df_t[df_t['is_mobile'] == 1]['atf_instant']\n",
    "    var_st_atf = df_t[df_t['is_mobile'] == 0]['atf_instant']\n",
    "    \n",
    "    cdf_m_rend = Cdf.MakeCdfFromList(var_mob_rend)\n",
    "    cdf_s_rend = Cdf.MakeCdfFromList(var_st_rend)\n",
    "    cdf_m_atf = Cdf.MakeCdfFromList(var_mob_atf)\n",
    "    cdf_s_atf = Cdf.MakeCdfFromList(var_st_atf)\n",
    "    cdf_m_plt = Cdf.MakeCdfFromList(var_mob_plt)\n",
    "    cdf_s_plt = Cdf.MakeCdfFromList(var_st_plt)\n",
    "    \n",
    "    axs[row, col].plot(cdf_m_rend.xs, cdf_m_rend.ps, marker= '+', linewidth=2,  markersize=2, \\\n",
    "             fillstyle='none', color = 'blue')\n",
    "    axs[row, col].plot(cdf_s_rend.xs, cdf_s_rend.ps, marker= 'o',  markevery = 50, linewidth=2, markersize=2, \\\n",
    "             fillstyle='none', color = 'C1')\n",
    "\n",
    "    axs[row, col].plot(cdf_m_atf.xs, cdf_m_atf.ps, marker= '+', linewidth=2, markersize=2, \\\n",
    "             fillstyle='none', color = 'C2')\n",
    "    axs[row, col].plot(cdf_s_atf.xs, cdf_s_atf.ps, marker= 'o',  markevery = 50, linewidth=2, markersize=2, \\\n",
    "             fillstyle='none', color = 'C3')\n",
    "    \n",
    "    axs[row, col].plot(cdf_m_plt.xs, cdf_m_plt.ps, marker= '+', linewidth=2, markersize=2, \\\n",
    "             fillstyle='none', color = 'C6')\n",
    "    axs[row, col].plot(cdf_s_plt.xs, cdf_s_plt.ps, marker= 'o',  markevery = 50, linewidth=2, markersize=2, \\\n",
    "             fillstyle='none', color = 'C9')\n",
    "    \n",
    "    axs[row, col].set_title(t, fontsize = 12, position=(0.25, 0.79))\n",
    "    \n",
    "    if col == 1 and row == 0:\n",
    "        leg = axs[row, col].legend(['Mobile -- ATF$_p$', \\\n",
    "                                    'Stationary -- ATF$_p$', \\\n",
    "                                    'Mobile -- ATF$_b$ ', \\\n",
    "                                    'Stationary -- ATF$_b$ ', \\\n",
    "                                    'Mobile -- PLT  ', \\\n",
    "                                    'Stationary -- PLT'], \n",
    "                                   fontsize=12, markerscale=1., ncol=2, bbox_to_anchor=(1.1, 2.59),  \\\n",
    "                                   loc='top',  frameon=False)\n",
    "        for legobj in leg.legendHandles:\n",
    "            legobj.set_linewidth(1.5)\n",
    "   \n",
    "    axs[row,col].set_xlim([1000,30000])\n",
    "    axs[row,col].set_xscale('log', basex=10)\n",
    "    formatter = FuncFormatter(lambda y, _: '{:.16g}'.format(y))\n",
    "    axs[row,col].xaxis.set_major_formatter(formatter)\n",
    "    \n",
    "    start, end = axs[row,col].get_ylim()\n",
    "    axs[row,col].yaxis.set_ticks(np.arange(start, end, 0.5))\n",
    "    axs[row,col].yaxis.set_major_formatter(ticker.FormatStrFormatter('%0.1f'))\n",
    "    \n",
    "    if row == 3:\n",
    "        axs[row,col].set_xlabel('Time (ms)', fontsize=12)\n",
    "    if col == 0:\n",
    "        axs[row,col].set_ylabel('CDF', fontsize=12)\n",
    "    \n",
    "    # boarder in the top and right \n",
    "    axs[row,col].spines['right'].set_color('none')\n",
    "    axs[row,col].spines['top'].set_color('none')\n",
    "    axs[row,col].yaxis.set_ticks_position('left')\n",
    "    axs[row,col].xaxis.set_ticks_position('bottom')\n",
    "    axs[row,col].spines['bottom'].set_position(('axes', -0.05))\n",
    "    axs[row,col].spines['left'].set_position(('axes', -0.05))\n",
    "    \n",
    "    if row != 3:\n",
    "        axs[row,col].axes.xaxis.set_ticklabels([])\n",
    "    if col != 0:\n",
    "        axs[row,col].axes.yaxis.set_ticklabels([])\n",
    "    \n",
    "    # control row and column for the figure grid \n",
    "    if col >= 1:\n",
    "        row += 1\n",
    "        col = 0\n",
    "    else:\n",
    "        col += 1\n",
    "        \n",
    "fig.subplots_adjust(hspace = 0.5)\n",
    "fig.subplots_adjust(wspace = 0.15)\n",
    "plt.savefig('../gfx/cdf_rend_atf_plt_mobile_vs_stationary_per_website.pdf', format='pdf', bbox_inches='tight')"
   ]
  },
  {
   "cell_type": "code",
   "execution_count": 104,
   "metadata": {},
   "outputs": [],
   "source": [
    "bbc = df[df['url'] == 'bbc']\n",
    "fb = df[df['url'] == 'facebook']\n",
    "ggl = df[df['url'] == 'google']\n",
    "ms = df[df['url'] == 'microsoft']\n",
    "rdt = df[df['url'] == 'reddit']\n",
    "ut = df[df['url'] == 'youtube']\n",
    "wiki = df[df['url'] == 'wikipedia']\n",
    "yh = df[df['url'] == 'yahoo']"
   ]
  },
  {
   "cell_type": "code",
   "execution_count": 105,
   "metadata": {},
   "outputs": [
    {
     "data": {
      "text/plain": [
       "count       55.000000\n",
       "mean     14763.576364\n",
       "std       2682.407613\n",
       "min      11858.900000\n",
       "25%      13163.350000\n",
       "50%      14145.900000\n",
       "75%      15989.250000\n",
       "max      27871.800000\n",
       "Name: atf_instant, dtype: float64"
      ]
     },
     "execution_count": 105,
     "metadata": {},
     "output_type": "execute_result"
    }
   ],
   "source": [
    "fb[fb['is_mobile'] == 1]['atf_instant'].describe()"
   ]
  },
  {
   "cell_type": "code",
   "execution_count": 106,
   "metadata": {},
   "outputs": [
    {
     "data": {
      "text/plain": [
       "count      999.000000\n",
       "mean     13721.652052\n",
       "std       2072.893411\n",
       "min      10968.200000\n",
       "25%      12532.900000\n",
       "50%      13189.900000\n",
       "75%      14246.000000\n",
       "max      32328.400000\n",
       "Name: atf_instant, dtype: float64"
      ]
     },
     "execution_count": 106,
     "metadata": {},
     "output_type": "execute_result"
    }
   ],
   "source": [
    "fb[fb['is_mobile'] == 0]['atf_instant'].describe()"
   ]
  },
  {
   "cell_type": "code",
   "execution_count": 107,
   "metadata": {},
   "outputs": [
    {
     "data": {
      "text/plain": [
       "count      135.000000\n",
       "mean      2830.867407\n",
       "std       1412.414810\n",
       "min       1411.800000\n",
       "25%       2340.900000\n",
       "50%       2610.100000\n",
       "75%       2933.900000\n",
       "max      14490.000000\n",
       "Name: atf_instant, dtype: float64"
      ]
     },
     "execution_count": 107,
     "metadata": {},
     "output_type": "execute_result"
    }
   ],
   "source": [
    "ms[ms['is_mobile'] == 1]['atf_instant'].describe()"
   ]
  },
  {
   "cell_type": "code",
   "execution_count": 108,
   "metadata": {},
   "outputs": [
    {
     "data": {
      "text/plain": [
       "count     2546.000000\n",
       "mean      2343.575962\n",
       "std        787.185573\n",
       "min       1202.800000\n",
       "25%       1853.575000\n",
       "50%       2350.100000\n",
       "75%       2626.200000\n",
       "max      18710.100000\n",
       "Name: atf_instant, dtype: float64"
      ]
     },
     "execution_count": 108,
     "metadata": {},
     "output_type": "execute_result"
    }
   ],
   "source": [
    "ms[ms['is_mobile'] == 0]['atf_instant'].describe()"
   ]
  },
  {
   "cell_type": "code",
   "execution_count": null,
   "metadata": {},
   "outputs": [],
   "source": []
  },
  {
   "cell_type": "code",
   "execution_count": null,
   "metadata": {},
   "outputs": [],
   "source": []
  }
 ],
 "metadata": {
  "kernelspec": {
   "display_name": "Python 3",
   "language": "python",
   "name": "python3"
  },
  "language_info": {
   "codemirror_mode": {
    "name": "ipython",
    "version": 3
   },
   "file_extension": ".py",
   "mimetype": "text/x-python",
   "name": "python",
   "nbconvert_exporter": "python",
   "pygments_lexer": "ipython3",
   "version": "3.7.1"
  }
 },
 "nbformat": 4,
 "nbformat_minor": 2
}
