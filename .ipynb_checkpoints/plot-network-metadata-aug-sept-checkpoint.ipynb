{
 "cells": [
  {
   "cell_type": "code",
   "execution_count": 93,
   "metadata": {},
   "outputs": [],
   "source": [
    "# imports and env't config \n",
    "import numpy as np\n",
    "import pandas as pd\n",
    "import matplotlib.pyplot as plt\n",
    "import matplotlib.gridspec as gridspec\n",
    "import json\n",
    "import requests \n",
    "from imp import reload \n",
    "import seaborn as sns\n",
    "import Util as util; reload(util)\n",
    "import warnings\n",
    "from matplotlib.ticker import FuncFormatter\n",
    "import matplotlib.ticker as ticker\n",
    "\n",
    "import time \n",
    "import operator\n",
    "\n",
    "import Cdf\n",
    "import Pmf\n",
    "warnings.filterwarnings('ignore')\n",
    "%matplotlib inline"
   ]
  },
  {
   "cell_type": "code",
   "execution_count": 94,
   "metadata": {},
   "outputs": [],
   "source": [
    "df = pd.read_csv('../../dataset/2018-weblar/monroe_weblar_merged_080918.csv', sep = ',', encoding = \"ISO-8859-1\")\n",
    "\n",
    "df = df[df['operator'] != 'ice.net']\n",
    "df = df[df['operator'] != 'Telenor']\n",
    "df['operator'] = df['operator'].apply(lambda x: util.change_op_cc(x))\n",
    "# df = df[df['url'] != 'https://www.ebay.com/']\n",
    "# df = df[df['url'] != 'https://www.amazon.com/']\n",
    "df['url'] = df['url'].apply(lambda x: util.get_base_url_name(x))\n",
    "df['min_as_path_len'] = df['ases'].apply(lambda x: util.count_ases(x))\n",
    "df['num_cell_id_change'] = df['cell_id'].apply(lambda x: util.count_cid_change(x))\n",
    "\n",
    "\n",
    "df = df[df['3sec_rendering_time'] > 0]\n",
    "# df = df[df['10sec_rendering_time'] > 0]\n",
    "# df = df[df['14sec_rendering_time'] > 0]\n",
    "df = df[df['atf'] > 0]\n",
    "# df = df[df['atf_instant'] > 0]\n",
    "\n",
    "df['3sec_rendering_time'] = df['3sec_rendering_time'].div(1000)\n",
    "df['10sec_rendering_time'] = df['10sec_rendering_time'].div(1000)\n",
    "df['14sec_rendering_time'] = df['14sec_rendering_time'].div(1000)\n",
    "df['atf_instant'] = df['atf_instant'].div(1000)\n",
    "df['atf_integral'] = df['atf_integral'].div(1000)\n",
    "df['tcpConct'] = df['tcpConct'].div(1000)\n",
    "df['dnsLookup'] = df['dnsLookup'].div(1000)\n",
    "df['ttfb'] = df['ttfb'].div(1000)\n",
    "df['pltStart'] = df['pltStart'].div(1000)\n",
    "df['pltUserTime'] = df['pltUserTime'].div(1000)\n",
    "df['object_size_total'] = df['object_size_total'].apply(lambda x: x/1024) #MB\n",
    "df['object_size_total'] = df['object_size_total'].apply(lambda x: x/1024)"
   ]
  },
  {
   "cell_type": "code",
   "execution_count": 95,
   "metadata": {},
   "outputs": [
    {
     "name": "stdout",
     "output_type": "stream",
     "text": [
      "ebay: 101\n",
      "youtube: 2\n",
      "facebook: 392\n",
      "microsoft: 501\n",
      "amazon: 12\n",
      "reddit: 279\n",
      "google: 606\n",
      "wikipedia: 529\n",
      "yahoo: 112\n",
      "bbc: 348\n"
     ]
    }
   ],
   "source": [
    "for u in set(df['url']):\n",
    "    print('{}: {}'.format(u, len(df[df['url'] == u].index)))"
   ]
  },
  {
   "cell_type": "code",
   "execution_count": 96,
   "metadata": {},
   "outputs": [
    {
     "data": {
      "text/plain": [
       "2.0"
      ]
     },
     "execution_count": 96,
     "metadata": {},
     "output_type": "execute_result"
    }
   ],
   "source": [
    "np.median(df[df['num_cell_id_change'] > 0]['num_cell_id_change'])"
   ]
  },
  {
   "cell_type": "code",
   "execution_count": 97,
   "metadata": {},
   "outputs": [
    {
     "data": {
      "text/plain": [
       "object_size_total       2882\n",
       "as_holders              2882\n",
       "locaton_area_code       2032\n",
       "bi_atf                  2882\n",
       "ii_plt                  2882\n",
       "operator                2882\n",
       "atf_integral            2882\n",
       "number_of_img           2882\n",
       "10sec_rendering_time    2882\n",
       "rsrq                    2032\n",
       "rsrp                    2032\n",
       "count_pixels            2882\n",
       "bi_plt                  2882\n",
       "object_size_img         2882\n",
       "radio_technology        2032\n",
       "tlsHandshake            2882\n",
       "is_cache                2882\n",
       "ip_ttl                  2882\n",
       "14sec_rendering_time    2882\n",
       "atf_instant             2882\n",
       "oi_atf                  2882\n",
       "serverResponseTime      2882\n",
       "ttfb                    2882\n",
       "3sec_rendering_time     2882\n",
       "fetchTime               2882\n",
       "cell_id                 2032\n",
       "ases                    2882\n",
       "ii_atf                  2882\n",
       "node_id                 2882\n",
       "img_atf                 2882\n",
       "number_of_total         2882\n",
       "number_of_misc          2882\n",
       "pltStart                2882\n",
       "number_of_script        2882\n",
       "atf                     2882\n",
       "object_size_script      2882\n",
       "requestTime             2882\n",
       "pltUserTime             2882\n",
       "dom                     2882\n",
       "url                     2882\n",
       "object_size_css         2882\n",
       "dnsLookup               2882\n",
       "measurement_id          2882\n",
       "rend_start_time         2882\n",
       "number_of_css           2882\n",
       "object_size_misc        2882\n",
       "oi_plt                  2882\n",
       "rssi                    2032\n",
       "tcpConct                2882\n",
       "min_as_path_len         2882\n",
       "num_cell_id_change      2882\n",
       "dtype: int64"
      ]
     },
     "execution_count": 97,
     "metadata": {},
     "output_type": "execute_result"
    }
   ],
   "source": [
    "df.count()"
   ]
  },
  {
   "cell_type": "markdown",
   "metadata": {},
   "source": [
    "## TTL per operator for website "
   ]
  },
  {
   "cell_type": "code",
   "execution_count": 98,
   "metadata": {},
   "outputs": [],
   "source": [
    "operators = set(df['operator'])\n",
    "astrics = ['bbc', 'reddit', 'wikipedia','amazon', 'youtube','ebay']"
   ]
  },
  {
   "cell_type": "code",
   "execution_count": 99,
   "metadata": {},
   "outputs": [
    {
     "data": {
      "image/png": "[encoded data removed]",
      "text/plain": [
       "<Figure size 576x576 with 12 Axes>"
      ]
     },
     "metadata": {},
     "output_type": "display_data"
    }
   ],
   "source": [
    "fig, axs = plt.subplots(6, 2, figsize=(8, 8))\n",
    "ttl_df = df[~df['url'].isin(astrics)]\n",
    "ttl_df = ttl_df[ttl_df['operator'] != 'FIXED']\n",
    "ttl_df = ttl_df[ttl_df['ip_ttl'] < 30]\n",
    "\n",
    "row = 0\n",
    "col = 0\n",
    "show_tick = True\n",
    "for o in sorted(set(ttl_df['operator'])):\n",
    "    if row == 3:\n",
    "        show_tick = True\n",
    "    if row == 2 and col == 1:\n",
    "        show_tick = True\n",
    "        \n",
    "    df_o = ttl_df[ttl_df['operator'] == o]\n",
    "    \n",
    "    bxplt = util.boxplot_sorted(df_o, 'url', 'ip_ttl', axs[row, col], rot = 1)\n",
    "    util.stop_plot_box(bxplt, o, shrink_right = False, tick_xlab = False, \n",
    "                       fs = 22, show_tick = show_tick, plt_type = 'ttl')\n",
    "   \n",
    "    # control row and column for the figure grid \n",
    "    if col >= 1:\n",
    "        row += 1\n",
    "        col = 0\n",
    "    else:\n",
    "        col += 1\n",
    "    \n",
    "# axs[3,1].axis('off')\n",
    "\n",
    "fig.subplots_adjust(hspace = 0.5)\n",
    "fig.subplots_adjust(wspace = 0.53)\n",
    "# plt.savefig('../gfx/box_ttl_websites_per_operator.pdf', format='pdf', bbox_inches='tight')"
   ]
  },
  {
   "cell_type": "code",
   "execution_count": 100,
   "metadata": {
    "scrolled": false
   },
   "outputs": [
    {
     "name": "stdout",
     "output_type": "stream",
     "text": [
      "facebook (F, M) Min: 11, 9 | Med:  13.0, 13.0 | Max: 15, 19 | count: 95, 297\n",
      "google (F, M) Min: 10, 10 | Med:  13.0, 13.0 | Max: 27, 21 | count: 196, 410\n",
      "microsoft (F, M) Min: 9, 8 | Med:  11.0, 12.0 | Max: 17, 19 | count: 24, 77\n",
      "yahoo (F, M) Min: 15, 12 | Med:  16.0, 16.0 | Max: 18, 20 | count: 41, 71\n"
     ]
    },
    {
     "data": {
      "image/png": "[encoded data removed]",
      "text/plain": [
       "<Figure size 216x144 with 2 Axes>"
      ]
     },
     "metadata": {},
     "output_type": "display_data"
    }
   ],
   "source": [
    "df = df[~df['url'].isin(astrics)]\n",
    "df = df[df['ip_ttl'] != 0]\n",
    "df = df[df['ip_ttl'] != 30]\n",
    "\n",
    "fig = plt.figure(figsize=(3, 2))\n",
    "plt.rcParams['font.size'] = 12\n",
    "\n",
    "yticks = np.arange(0,1.1,0.2)\n",
    "\n",
    "ax1 = fig.add_subplot(211)\n",
    "ax2 = fig.add_subplot(212)\n",
    "\n",
    "colors = ['royalblue', 'Green', 'Coral', 'darkorchid', 'black', 'olive', 'cyan', 'darkred', 'sienna', 'darkorange']\n",
    "markers = ['s', 'o', 'x', '.', 'v','+']\n",
    "i = 0\n",
    "legends = []\n",
    "\n",
    "ttl_df = df[df['ip_ttl'] < 30]\n",
    "df_f = ttl_df[ttl_df['operator'] == 'FIXED']\n",
    "df_m = ttl_df[ttl_df['operator'] != 'FIXED']\n",
    "for u in sorted(set(df['url'])):\n",
    "    ttl_mob = df_m[df_m['url'] == u]['ip_ttl']\n",
    "    c_ttl_m = Cdf.MakeCdfFromList(ttl_mob)\n",
    "       \n",
    "    ttl_fix = df_f[df_f['url'] == u ]['ip_ttl']\n",
    "    c_ttl_f = Cdf.MakeCdfFromList(ttl_fix)\n",
    "    \n",
    "    ax1.plot(c_ttl_f.xs, c_ttl_f.ps, marker= markers[i], linewidth=1, markersize=3, \\\n",
    "             fillstyle='none', color = colors[i])\n",
    " \n",
    "    ax2.plot(c_ttl_m.xs, c_ttl_m.ps, marker= markers[i], linewidth=1, markersize=3, \\\n",
    "             fillstyle='none', color = colors[i])\n",
    "      \n",
    "    print(\"{} (F, M) Min: {}, {} | Med:  {}, {} | Max: {}, {} | count: {}, {}\" \n",
    "          .format(u, np.min(ttl_fix), np.min(ttl_mob), np.median(ttl_fix),\n",
    "          np.median(ttl_mob), np.max(ttl_fix), np.max(ttl_mob), len(ttl_fix), len(ttl_mob)))\n",
    "\n",
    "    i+=1\n",
    "    legends.append(u)\n",
    "    \n",
    "\n",
    "ylab = \"CDF\"\n",
    "ax1.grid(False)\n",
    "# ax1.set_yticks(yticks)\n",
    "ax1.set_xlim([4,32])\n",
    "ax1.set_ylim([0,1.05])\n",
    "ax1.set_xscale('symlog', basex = 2)\n",
    "ax1.set_ylabel(ylab, fontsize=12, )\n",
    "ax1.set_title(\"Fixed-line\", fontsize = 12, position=(0.2, 0.45))\n",
    "   \n",
    "ax1.spines['right'].set_color('none')\n",
    "ax1.spines['top'].set_color('none')\n",
    "ax1.yaxis.set_ticks_position('left')\n",
    "ax1.xaxis.set_ticks_position('bottom')\n",
    "ax1.spines['bottom'].set_position(('axes', -0.05))\n",
    "ax1.spines['left'].set_position(('axes', -0.05))\n",
    "ax1.axes.xaxis.set_ticklabels([])\n",
    "ax2.set_xlim([4,32])\n",
    "ax2.set_ylim([0,1.05])\n",
    "ax2.set_xscale('symlog', basex =2)\n",
    "ax2.set_xlabel('IP Path Length  ', fontsize=12)\n",
    "ax2.set_ylabel(ylab, fontsize=12)\n",
    "ax2.set_title(\"LTE\", fontsize = 12, position=(0.2, 0.45))\n",
    "\n",
    "formatter = FuncFormatter(lambda y, _: '{:.16g}'.format(y))\n",
    "ax1.xaxis.set_major_formatter(formatter)\n",
    "ax2.xaxis.set_major_formatter(formatter)\n",
    "\n",
    "ax2.spines['right'].set_color('none')\n",
    "ax2.spines['top'].set_color('none')\n",
    "ax2.yaxis.set_ticks_position('left')\n",
    "ax2.xaxis.set_ticks_position('bottom')\n",
    "ax2.spines['bottom'].set_position(('axes', -0.05))\n",
    "ax2.spines['left'].set_position(('axes', -0.05))\n",
    "\n",
    "start, end = ax1.get_ylim()\n",
    "ax1.yaxis.set_ticks(np.arange(start, end, 0.5))\n",
    "ax1.yaxis.set_major_formatter(ticker.FormatStrFormatter('%0.1f'))\n",
    "ax2.yaxis.set_ticks(np.arange(start, end, 0.5))\n",
    "ax2.yaxis.set_major_formatter(ticker.FormatStrFormatter('%0.1f'))\n",
    "\n",
    "ax1.axes.xaxis.set_ticklabels([])\n",
    "\n",
    "leg = ax2.legend(legends, \n",
    "           fontsize=12, markerscale=2., loc='top', ncol = 2, bbox_to_anchor=(1.1, 3.25), frameon=False)\n",
    "for legobj in leg.legendHandles:\n",
    "    legobj.set_linewidth(1)\n",
    "\n",
    "# fig.subplots_adjust(hspace = 0.6)\n",
    "plt.savefig('../gfx/cdf_ttl_mobile_vs_fixed_websites.pdf', format='pdf', bbox_inches='tight')"
   ]
  },
  {
   "cell_type": "code",
   "execution_count": null,
   "metadata": {},
   "outputs": [],
   "source": []
  }
 ],
 "metadata": {
  "kernelspec": {
   "display_name": "Python 3",
   "language": "python",
   "name": "python3"
  },
  "language_info": {
   "codemirror_mode": {
    "name": "ipython",
    "version": 3
   },
   "file_extension": ".py",
   "mimetype": "text/x-python",
   "name": "python",
   "nbconvert_exporter": "python",
   "pygments_lexer": "ipython3",
   "version": "3.7.1"
  }
 },
 "nbformat": 4,
 "nbformat_minor": 2
}
