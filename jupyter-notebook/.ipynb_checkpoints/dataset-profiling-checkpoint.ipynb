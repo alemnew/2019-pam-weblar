{
 "cells": [
  {
   "cell_type": "code",
   "execution_count": 1,
   "metadata": {},
   "outputs": [],
   "source": [
    "# imports and env't config \n",
    "import numpy as np\n",
    "import pandas as pd\n",
    "import matplotlib.pyplot as plt\n",
    "import matplotlib.gridspec as gridspec\n",
    "import json\n",
    "import requests \n",
    "from imp import reload \n",
    "import Util as util; reload(util)\n",
    "from pygeocoder import Geocoder as gc\n",
    "import warnings\n",
    "from pygeolib import GeocoderError\n",
    "import time \n",
    "\n",
    "import Cdf\n",
    "import Pmf\n",
    "warnings.filterwarnings('ignore')\n",
    "%matplotlib inline"
   ]
  },
  {
   "cell_type": "code",
   "execution_count": 2,
   "metadata": {},
   "outputs": [],
   "source": [
    "apr = pd.read_csv('../dataset/monroe_weblar_merged_201804.csv', sep = ',', encoding = \"ISO-8859-1\")\n",
    "jul = pd.read_csv('../dataset/monroe_weblar_merged_201807.csv', sep = ',', encoding = \"ISO-8859-1\")\n",
    "apr['atf'] = -1\n",
    "apr['tlsHandshake'] = -1\n",
    "\n",
    "frames = [apr, jul]\n",
    "df = pd.concat(frames, ignore_index =  True)\n",
    "\n",
    "df = df[df['operator'] != 'ice.net']\n",
    "df = df[df['operator'] != 'Telenor']\n",
    "df['operator'] = df['operator'].apply(lambda x: util.change_op_cc(x))\n",
    "# df = df[df['url'] != 'https://www.ebay.com/']\n",
    "# df = df[df['url'] != 'https://www.amazon.com/']\n",
    "# df['url'] = df['url'].apply(lambda x: util.get_base_url_name(x))\n",
    "# df['is_mobile'] = df['node_id'].apply(lambda x: util.is_from_mobile(x))\n"
   ]
  },
  {
   "cell_type": "code",
   "execution_count": 3,
   "metadata": {},
   "outputs": [
    {
     "data": {
      "text/plain": [
       "{'http://www.bbc.com/',\n",
       " 'https://en.wikipedia.org/wiki/Alan_Turing',\n",
       " 'https://news.google.com/',\n",
       " 'https://www.amazon.com/',\n",
       " 'https://www.ebay.com/',\n",
       " 'https://www.facebook.com/places/Things-to-do-in-Paris-France/110774245616525/',\n",
       " 'https://www.microsoft.com/',\n",
       " 'https://www.reddit.com/',\n",
       " 'https://www.yahoo.com/',\n",
       " 'https://www.youtube.com/'}"
      ]
     },
     "execution_count": 3,
     "metadata": {},
     "output_type": "execute_result"
    }
   ],
   "source": [
    "set(df['url'])"
   ]
  },
  {
   "cell_type": "markdown",
   "metadata": {},
   "source": [
    "## Dataset profiling "
   ]
  },
  {
   "cell_type": "code",
   "execution_count": 4,
   "metadata": {},
   "outputs": [
    {
     "name": "stdout",
     "output_type": "stream",
     "text": [
      "Misc : 69 \n",
      "SE_r : 822 \n",
      "SE_1 : 2505 \n",
      "NO_1 : 2576 \n",
      "NO_2 : 4392 \n",
      "SE_2 : 1971 \n",
      "SE_3 : 1892 \n",
      "NO_3 : 4130 \n"
     ]
    }
   ],
   "source": [
    "for op in set(df['operator']):\n",
    "    print(\"%s : %d \" %(str(op), df[df['operator'] == op]['measurement_id'].count()))"
   ]
  },
  {
   "cell_type": "code",
   "execution_count": 5,
   "metadata": {},
   "outputs": [
    {
     "data": {
      "text/plain": [
       "128"
      ]
     },
     "execution_count": 5,
     "metadata": {},
     "output_type": "execute_result"
    }
   ],
   "source": [
    "len(set(df['node_id']))"
   ]
  },
  {
   "cell_type": "code",
   "execution_count": 6,
   "metadata": {},
   "outputs": [
    {
     "name": "stdout",
     "output_type": "stream",
     "text": [
      "372 : 2\n",
      "375 : 9\n",
      "382 : 5\n",
      "407 : 7\n",
      "409 : 9\n",
      "414 : 8\n",
      "415 : 10\n",
      "422 : 7\n",
      "423 : 1\n",
      "427 : 4\n",
      "434 : 10\n",
      "437 : 5\n",
      "449 : 10\n",
      "451 : 6\n",
      "477 : 9\n",
      "502 : 6\n",
      "506 : 1\n",
      "510 : 3\n"
     ]
    }
   ],
   "source": [
    "for n in set(df['node_id']): \n",
    "    if len(set(df[df['node_id'] == n]['measurement_id']))  <=10:\n",
    "        print(\"%d : %d\" %(n, len(set(df[df['node_id'] == n]['measurement_id'])) ))"
   ]
  },
  {
   "cell_type": "code",
   "execution_count": 7,
   "metadata": {},
   "outputs": [],
   "source": [
    "df_mobile = df[df['node_id'].isin(util.all_mobile)]\n",
    "df_stationary = df[~df['node_id'].isin(util.all_mobile)] #isnot in\n",
    "df_no_mobile = df[df['node_id'].isin(util.no_mobile)]\n",
    "df_se_mobile = df[df['node_id'].isin(util.se_mobile)]\n",
    "df_no_stationary = df[df['node_id'].isin(util.no_stationary)]\n",
    "df_se_stationary = df[df['node_id'].isin(util.se_stationary)]"
   ]
  },
  {
   "cell_type": "code",
   "execution_count": 8,
   "metadata": {},
   "outputs": [
    {
     "data": {
      "text/plain": [
       "5886"
      ]
     },
     "execution_count": 8,
     "metadata": {},
     "output_type": "execute_result"
    }
   ],
   "source": [
    "len(df_se_stationary.index)"
   ]
  },
  {
   "cell_type": "code",
   "execution_count": 9,
   "metadata": {},
   "outputs": [
    {
     "name": "stdout",
     "output_type": "stream",
     "text": [
      "Data points from Mobile nodes: 6770\n",
      "Data points from stationary nodes: 11587\n",
      "Total Data points: 18357\n"
     ]
    }
   ],
   "source": [
    "print(\"Data points from Mobile nodes: %d\" %df_mobile['measurement_id'].count())\n",
    "print(\"Data points from stationary nodes: %d\" %df_stationary['measurement_id'].count())\n",
    "print(\"Total Data points: %d\" %df['measurement_id'].count())"
   ]
  },
  {
   "cell_type": "code",
   "execution_count": 10,
   "metadata": {},
   "outputs": [
    {
     "name": "stdout",
     "output_type": "stream",
     "text": [
      "Data points from Telia S Roaming: 510\n"
     ]
    }
   ],
   "source": [
    "## Roaming Telia S\n",
    "telia_s_roaming = [357, 358, 363]\n",
    "print(\"Data points from Telia S Roaming: %d\" %df[df['node_id'].isin(telia_s_roaming)]['measurement_id'].count())"
   ]
  },
  {
   "cell_type": "code",
   "execution_count": 11,
   "metadata": {},
   "outputs": [
    {
     "data": {
      "text/plain": [
       "56"
      ]
     },
     "execution_count": 11,
     "metadata": {},
     "output_type": "execute_result"
    }
   ],
   "source": [
    "len(set(df_stationary['node_id']))"
   ]
  },
  {
   "cell_type": "code",
   "execution_count": 12,
   "metadata": {},
   "outputs": [
    {
     "name": "stdout",
     "output_type": "stream",
     "text": [
      "Data points from Norway - Stationary: 5701\n",
      "Data points from Sweden - Stationary: 5886\n",
      "Data points from Norway - Mobile: 6271\n",
      "Data points from Sweden - Mobile: 499\n"
     ]
    }
   ],
   "source": [
    "print(\"Data points from Norway - Stationary: %d\" %df[df['node_id'].isin(util.no_stationary)]['measurement_id'].count())\n",
    "print(\"Data points from Sweden - Stationary: %d\" %df[df['node_id'].isin(util.se_stationary)]['measurement_id'].count())\n",
    "print(\"Data points from Norway - Mobile: %d\" %df[df['node_id'].isin(util.no_mobile)]['measurement_id'].count())\n",
    "print(\"Data points from Sweden - Mobile: %d\" %df[df['node_id'].isin(util.se_mobile)]['measurement_id'].count())"
   ]
  },
  {
   "cell_type": "code",
   "execution_count": 13,
   "metadata": {},
   "outputs": [
    {
     "name": "stdout",
     "output_type": "stream",
     "text": [
      "\\toprule \n",
      " \t \\multicolumn{1}{c|}{Country} & \\multicolumn{1}{c|}{Operator}         & \n",
      " \t \\multicolumn{2}{c|}{\\# Measurements} & \\multicolumn{2}{c|}{\\# Nodes} \\\\          \n",
      " \t {} & {} & Mobile  & Stationary & Mobile & Stationary \\\\\n",
      "\\midrule\n",
      "\t\\multirow{4}{*}{Norway} & Telia N & 0 & 0 & 0 & 0 \\\\ \n",
      "\t\t  & TELIA S & 0 & 0 & 0 & 0 \\\\ \n",
      "\t\t  & N Telenor & 0 & 0 & 0 & 0 \\\\ \n",
      "\t\t  & 242 14 & 0 & 0 & 0 & 0 \\\\ \n",
      "\t\t  & NetCom & 0 & 0  & 0 & 0 \\\\ \n",
      "\\midrule\n",
      "\t\\multirow{3}{*}{Sweden} & Telenor SE & 0 & 0 & 0 & 0 \\\\ \n",
      "\t\t  & Telia & 0 & 0 & 0 & 0 \\\\ \n",
      "\t\t  & 3 & 0 & 0 & 0 & 0 \\\\ \n"
     ]
    }
   ],
   "source": [
    "print(\"\\\\toprule \\n \\t \\\\multicolumn{1}{c|}{Country} & \\\\multicolumn{1}{c|}{Operator} \\\n",
    "        & \\n \\t \\\\multicolumn{2}{c|}{\\\\# Measurements} & \\\\multicolumn{2}{c|}{\\\\# Nodes} \\\\\\\\  \\\n",
    "        \\n \\t {} & {} & Mobile  & Stationary & Mobile & Stationary \\\\\\\\\")\n",
    "print(\"\\\\midrule\")\n",
    "\n",
    "print(\"\\t\\multirow{4}{*}{Norway} & Telia N & %d & %d & %d & %d \\\\\\\\ \" \\\n",
    "      %(df_no_mobile[df_no_mobile['operator'] == 'Telia N']['measurement_id'].count(),\n",
    "        df_no_stationary[df_no_stationary['operator'] == 'Telia N']['measurement_id'].count(),\n",
    "        len(set(df_no_mobile[df_no_mobile['operator'] == 'Telia N']['node_id'])),\n",
    "        len(set(df_no_stationary[df_no_stationary['operator'] == 'Telia N']['node_id'])))\n",
    "        )\n",
    "print(\"\\t\\t  & TELIA S & %d & %d & %d & %d \\\\\\\\ \" \\\n",
    "      %(df_no_mobile[df_no_mobile['operator'] == 'TELIA S']['measurement_id'].count(),\n",
    "        df_no_stationary[df_no_stationary['operator'] == 'TELIA S']['measurement_id'].count(),\n",
    "       len(set(df_no_mobile[df_no_mobile['operator'] == 'TELIA S']['node_id'])),\n",
    "        len(set(df_no_stationary[df_no_stationary['operator'] == 'TELIA S']['node_id'])))\n",
    "        )\n",
    "print(\"\\t\\t  & N Telenor & %d & %d & %d & %d \\\\\\\\ \" \\\n",
    "      %(df_no_mobile[df_no_mobile['operator'] == 'N Telenor']['measurement_id'].count(),\n",
    "        df_no_stationary[df_no_stationary['operator'] == 'N Telenor']['measurement_id'].count(),\n",
    "       len(set(df_no_mobile[df_no_mobile['operator'] == 'N Telenor']['node_id'])),\n",
    "        len(set(df_no_stationary[df_no_stationary['operator'] == 'N Telenor']['node_id'])))\n",
    "        )\n",
    "print(\"\\t\\t  & 242 14 & %d & %d & %d & %d \\\\\\\\ \" \\\n",
    "      %(df_no_mobile[df_no_mobile['operator'] == '242 14']['measurement_id'].count(),\n",
    "        df_no_stationary[df_no_stationary['operator'] == '242 14']['measurement_id'].count(),\n",
    "       len(set(df_no_mobile[df_no_mobile['operator'] == '242 14']['node_id'])),\n",
    "        len(set(df_no_stationary[df_no_stationary['operator'] == '242 14']['node_id'])))\n",
    "        )\n",
    "print(\"\\t\\t  & NetCom & %d & %d  & %d & %d \\\\\\\\ \" \\\n",
    "      %(df_no_mobile[df_no_mobile['operator'] == 'NetCom']['measurement_id'].count(),\n",
    "        df_no_stationary[df_no_stationary['operator'] == 'NetCom']['measurement_id'].count(),\n",
    "       len(set(df_no_mobile[df_no_mobile['operator'] == 'NetCom']['node_id'])),\n",
    "        len(set(df_no_stationary[df_no_stationary['operator'] == 'NetCom']['node_id'])))\n",
    "        )\n",
    "\n",
    "print(\"\\\\midrule\")\n",
    "print(\"\\t\\multirow{3}{*}{Sweden} & Telenor SE & %d & %d & %d & %d \\\\\\\\ \" \\\n",
    "      %(df_se_mobile[df_se_mobile['operator'] == 'Telenor SE']['measurement_id'].count(),\n",
    "        df_se_stationary[df_se_stationary['operator'] == 'Telenor SE']['measurement_id'].count(),\n",
    "       len(set(df_se_mobile[df_se_mobile['operator'] == 'Telenor SE']['node_id'])),\n",
    "        len(set(df_se_stationary[df_se_stationary['operator'] == 'Telenor SE']['node_id'])))\n",
    "        )\n",
    "print(\"\\t\\t  & Telia & %d & %d & %d & %d \\\\\\\\ \" \\\n",
    "      %(df_se_mobile[df_se_mobile['operator'] == 'Telia']['measurement_id'].count(),\n",
    "        df_se_stationary[df_se_stationary['operator'] == 'Telia']['measurement_id'].count(),\n",
    "        len(set(df_se_mobile[df_se_mobile['operator'] == 'Telia']['node_id'])),\n",
    "        len(set(df_se_stationary[df_se_stationary['operator'] == 'Telia']['node_id'])))\n",
    "        )\n",
    "print(\"\\t\\t  & 3 & %d & %d & %d & %d \\\\\\\\ \" \\\n",
    "      %(df_se_mobile[df_se_mobile['operator'] == '3']['measurement_id'].count(),\n",
    "        df_se_stationary[df_se_stationary['operator'] == '3']['measurement_id'].count(),\n",
    "        len(set(df_se_mobile[df_se_mobile['operator'] == '3']['node_id'])),\n",
    "        len(set(df_se_stationary[df_se_stationary['operator'] == '3']['node_id'])))\n",
    "        )\n"
   ]
  },
  {
   "cell_type": "code",
   "execution_count": 14,
   "metadata": {},
   "outputs": [
    {
     "name": "stdout",
     "output_type": "stream",
     "text": [
      "https://www.amazon.com/ :  64\n",
      "https://www.microsoft.com/ :  3021\n",
      "https://en.wikipedia.org/wiki/Alan_Turing :  3096\n",
      "https://news.google.com/ :  3315\n",
      "http://www.bbc.com/ :  2929\n",
      "https://www.reddit.com/ :  2246\n",
      "https://www.ebay.com/ :  29\n",
      "https://www.youtube.com/ :  1044\n",
      "https://www.yahoo.com/ :  1437\n",
      "https://www.facebook.com/places/Things-to-do-in-Paris-France/110774245616525/ :  1176\n"
     ]
    }
   ],
   "source": [
    "for u in set(df['url']):\n",
    "    print(\"%s :  %d\" %(u, len(df[df['url'] == u]['measurement_id'])))"
   ]
  },
  {
   "cell_type": "code",
   "execution_count": 15,
   "metadata": {},
   "outputs": [],
   "source": [
    "# df['operator'] = df['operator'].apply(lambda x: util.change_op_cc(x))\n",
    "# df_mobile = df[df['node_id'].isin(util.all_mobile)]\n",
    "# df_stationary = df[~df['node_id'].isin(util.all_mobile)] #isnot in\n",
    "# df_no_mobile = df[df['node_id'].isin(util.no_mobile)]\n",
    "# df_se_mobile = df[df['node_id'].isin(util.se_mobile)]\n",
    "# df_no_stationary = df[df['node_id'].isin(util.no_stationary)]\n",
    "# df_se_stationary = df[df['node_id'].isin(util.se_stationary)]"
   ]
  },
  {
   "cell_type": "code",
   "execution_count": 16,
   "metadata": {},
   "outputs": [
    {
     "data": {
      "text/plain": [
       "{'Misc', 'NO_1', 'NO_2', 'NO_3', 'SE_1', 'SE_2', 'SE_3', 'SE_r'}"
      ]
     },
     "execution_count": 16,
     "metadata": {},
     "output_type": "execute_result"
    }
   ],
   "source": [
    "set(df['operator'])"
   ]
  },
  {
   "cell_type": "code",
   "execution_count": 17,
   "metadata": {},
   "outputs": [
    {
     "name": "stdout",
     "output_type": "stream",
     "text": [
      "Misc :   2\n",
      "SE_r :   9\n",
      "SE_1 :   32\n",
      "NO_1 :   22\n",
      "NO_2 :   31\n",
      "SE_2 :   30\n",
      "SE_3 :   30\n",
      "NO_3 :   29\n",
      "Total: 128\n"
     ]
    }
   ],
   "source": [
    "for o in set(df['operator']):\n",
    "    print(\"%s :   %d\" \\\n",
    "          %(o, len(set(df[df['operator'] == o]['node_id']))))\n",
    "print(\"Total: {}\".format(len(set(df['node_id']))))"
   ]
  },
  {
   "cell_type": "code",
   "execution_count": 18,
   "metadata": {},
   "outputs": [
    {
     "name": "stdout",
     "output_type": "stream",
     "text": [
      "\\toprule \n",
      " \t \\multicolumn{1}{c|}{Country} & \\multicolumn{1}{c|}{Operator}         & \n",
      " \t \\multicolumn{2}{c|}{\\# Measurements} & \\multicolumn{2}{c|}{\\# Nodes} \\\\          \n",
      " \t {} & {} & Mobile  & Stationary & Mobile & Stationary \\\\\n",
      "\\midrule\n",
      "\t\\multirow{4}{*}{Norway} & 1 & 712 & 1864 & 14 & 8 \\\\ \n",
      "\t\t  & 2 & 2580 & 1812 & 21 & 10 \\\\ \n",
      "\t\t  & 3 & 2492 & 1638 & 20 & 9 \\\\ \n",
      "\t\t  & Roaming & 0 & 0 & 0 & 0 \\\\ \n",
      "\\midrule\n",
      "\t\\multirow{3}{*}{Sweden} & 1 & 149 & 2304 & 12 & 19 \\\\ \n",
      "\t\t  & 2 & 278 & 1693 & 16 & 14 \\\\ \n",
      "\t\t  & 3 & 72 & 1820 & 12 & 18 \\\\ \n"
     ]
    }
   ],
   "source": [
    "print(\"\\\\toprule \\n \\t \\\\multicolumn{1}{c|}{Country} & \\\\multicolumn{1}{c|}{Operator} \\\n",
    "        & \\n \\t \\\\multicolumn{2}{c|}{\\\\# Measurements} & \\\\multicolumn{2}{c|}{\\\\# Nodes} \\\\\\\\  \\\n",
    "        \\n \\t {} & {} & Mobile  & Stationary & Mobile & Stationary \\\\\\\\\")\n",
    "print(\"\\\\midrule\")\n",
    "\n",
    "print(\"\\t\\multirow{4}{*}{Norway} & 1 & %d & %d & %d & %d \\\\\\\\ \" \\\n",
    "      %(df_no_mobile[df_no_mobile['operator'] == 'NO_1']['measurement_id'].count(),\n",
    "        df_no_stationary[df_no_stationary['operator'] == 'NO_1']['measurement_id'].count(),\n",
    "        len(set(df_no_mobile[df_no_mobile['operator'] == 'NO_1']['node_id'])),\n",
    "        len(set(df_no_stationary[df_no_stationary['operator'] == 'NO_1']['node_id'])))\n",
    "        )\n",
    "print(\"\\t\\t  & 2 & %d & %d & %d & %d \\\\\\\\ \" \\\n",
    "      %(df_no_mobile[df_no_mobile['operator'] == 'NO_2']['measurement_id'].count(),\n",
    "        df_no_stationary[df_no_stationary['operator'] == 'NO_2']['measurement_id'].count(),\n",
    "       len(set(df_no_mobile[df_no_mobile['operator'] == 'NO_2']['node_id'])),\n",
    "        len(set(df_no_stationary[df_no_stationary['operator'] == 'NO_2']['node_id'])))\n",
    "        )\n",
    "print(\"\\t\\t  & 3 & %d & %d & %d & %d \\\\\\\\ \" \\\n",
    "      %(df_no_mobile[df_no_mobile['operator'] == 'NO_3']['measurement_id'].count(),\n",
    "        df_no_stationary[df_no_stationary['operator'] == 'NO_3']['measurement_id'].count(),\n",
    "       len(set(df_no_mobile[df_no_mobile['operator'] == 'NO_3']['node_id'])),\n",
    "        len(set(df_no_stationary[df_no_stationary['operator'] == 'NO_3']['node_id'])))\n",
    "        )\n",
    "print(\"\\t\\t  & Roaming & %d & %d & %d & %d \\\\\\\\ \" \\\n",
    "      %(df_no_mobile[df_no_mobile['operator'] == 'NO_r']['measurement_id'].count(),\n",
    "        df_no_stationary[df_no_stationary['operator'] == 'NO_r']['measurement_id'].count(),\n",
    "       len(set(df_no_mobile[df_no_mobile['operator'] == 'NO_r']['node_id'])),\n",
    "        len(set(df_no_stationary[df_no_stationary['operator'] == 'NO_r']['node_id'])))\n",
    "        )\n",
    "\n",
    "print(\"\\\\midrule\")\n",
    "print(\"\\t\\multirow{3}{*}{Sweden} & 1 & %d & %d & %d & %d \\\\\\\\ \" \\\n",
    "      %(df_se_mobile[df_se_mobile['operator'] == 'SE_1']['measurement_id'].count(),\n",
    "        df_se_stationary[df_se_stationary['operator'] == 'SE_1']['measurement_id'].count(),\n",
    "       len(set(df_se_mobile[df_se_mobile['operator'] == 'SE_1']['node_id'])),\n",
    "        len(set(df_se_stationary[df_se_stationary['operator'] == 'SE_1']['node_id'])))\n",
    "        )\n",
    "print(\"\\t\\t  & 2 & %d & %d & %d & %d \\\\\\\\ \" \\\n",
    "      %(df_se_mobile[df_se_mobile['operator'] == 'SE_2']['measurement_id'].count(),\n",
    "        df_se_stationary[df_se_stationary['operator'] == 'SE_2']['measurement_id'].count(),\n",
    "        len(set(df_se_mobile[df_se_mobile['operator'] == 'SE_2']['node_id'])),\n",
    "        len(set(df_se_stationary[df_se_stationary['operator'] == 'SE_2']['node_id'])))\n",
    "        )\n",
    "print(\"\\t\\t  & 3 & %d & %d & %d & %d \\\\\\\\ \" \\\n",
    "      %(df_se_mobile[df_se_mobile['operator'] == 'SE_3']['measurement_id'].count(),\n",
    "        df_se_stationary[df_se_stationary['operator'] == 'SE_3']['measurement_id'].count(),\n",
    "        len(set(df_se_mobile[df_se_mobile['operator'] == 'SE_3']['node_id'])),\n",
    "        len(set(df_se_stationary[df_se_stationary['operator'] == 'SE_3']['node_id'])))\n",
    "        )\n"
   ]
  },
  {
   "cell_type": "code",
   "execution_count": null,
   "metadata": {},
   "outputs": [],
   "source": []
  },
  {
   "cell_type": "code",
   "execution_count": null,
   "metadata": {},
   "outputs": [],
   "source": []
  }
 ],
 "metadata": {
  "kernelspec": {
   "display_name": "Python 3",
   "language": "python",
   "name": "python3"
  },
  "language_info": {
   "codemirror_mode": {
    "name": "ipython",
    "version": 3
   },
   "file_extension": ".py",
   "mimetype": "text/x-python",
   "name": "python",
   "nbconvert_exporter": "python",
   "pygments_lexer": "ipython3",
   "version": "3.7.1"
  }
 },
 "nbformat": 4,
 "nbformat_minor": 2
}
