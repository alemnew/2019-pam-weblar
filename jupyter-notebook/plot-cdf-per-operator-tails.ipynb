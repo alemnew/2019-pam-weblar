{
 "cells": [
  {
   "cell_type": "code",
   "execution_count": 1,
   "metadata": {},
   "outputs": [],
   "source": [
    "# imports and env't config \n",
    "import numpy as np\n",
    "import pandas as pd\n",
    "import matplotlib.pyplot as plt\n",
    "import matplotlib.gridspec as gridspec\n",
    "import json\n",
    "import requests \n",
    "from imp import reload \n",
    "import seaborn as sns\n",
    "import Util as util; reload(util)\n",
    "import warnings\n",
    "from matplotlib.ticker import FuncFormatter\n",
    "import matplotlib.ticker as ticker\n",
    "import time \n",
    "\n",
    "import Cdf\n",
    "import Pmf\n",
    "warnings.filterwarnings('ignore')\n",
    "%matplotlib inline"
   ]
  },
  {
   "cell_type": "code",
   "execution_count": 2,
   "metadata": {},
   "outputs": [],
   "source": [
    "apr = pd.read_csv('../dataset/monroe_weblar_merged_201804.csv', sep = ',', encoding = \"ISO-8859-1\")\n",
    "jul = pd.read_csv('../dataset/monroe_weblar_merged_201807.csv', sep = ',', encoding = \"ISO-8859-1\")\n",
    "apr['atf'] = -1\n",
    "apr['tlsHandshake'] = -1\n",
    "\n",
    "frames = [apr, jul]\n",
    "df = pd.concat(frames, ignore_index =  True)\n",
    "\n",
    "df = df[df['operator'] != 'ice.net']\n",
    "df = df[df['operator'] != 'Telenor']\n",
    "df['operator'] = df['operator'].apply(lambda x: util.change_op_cc(x))\n",
    "df = df[df['url'] != 'https://www.ebay.com/']\n",
    "df = df[df['url'] != 'https://www.amazon.com/']\n",
    "df['url'] = df['url'].apply(lambda x: util.get_base_url_name(x))\n",
    "\n",
    "df = df[df['3sec_rendering_time'] > 6000]\n",
    "df = df[df['10sec_rendering_time'] > 0]\n",
    "df = df[df['14sec_rendering_time'] > 0]\n",
    "df = df[df['atf_integral'] > 0]\n",
    "df = df[df['atf_instant'] > 0]\n",
    "\n",
    "df['object_size_total'] = df['object_size_total'].apply(lambda x: x/1024) #MB\n",
    "df['object_size_total'] = df['object_size_total'].apply(lambda x: x/1024)\n",
    "\n",
    "speed_df = pd.read_csv('../dataset/monroe_weblar_merged_with_speed.csv', sep = ',', encoding = \"ISO-8859-1\")\n",
    "speed_df = speed_df[speed_df['gps_speed'] > 0]\n",
    "mobile_msmt_id = set(speed_df['measurement_id'])\n",
    "df_se_mobile = df[df['node_id'].isin(util.se_mobile)]\n",
    "mobile_msmt_id = mobile_msmt_id.union(set(df_se_mobile['measurement_id']))\n",
    "\n",
    "df['is_mobile'] = df['measurement_id'].apply(lambda x: util.is_from_mobile(x, mobile_msmt_id))\n",
    "\n",
    "\n",
    "df_mobile = df[df['measurement_id'].isin(mobile_msmt_id)]\n",
    "df_stationary = df[~df['measurement_id'].isin(mobile_msmt_id)] #isnot in\n",
    "\n",
    "df_no_mobile = df[df['node_id'].isin(util.no_mobile)]\n",
    "df_se_mobile = df[df['node_id'].isin(util.se_mobile)]\n",
    "df_no_stationary = df[df['node_id'].isin(util.no_stationary)]\n",
    "df_se_stationary = df[df['node_id'].isin(util.se_stationary)]"
   ]
  },
  {
   "cell_type": "code",
   "execution_count": 3,
   "metadata": {},
   "outputs": [
    {
     "data": {
      "text/html": [
       "<div>\n",
       "<style scoped>\n",
       "    .dataframe tbody tr th:only-of-type {\n",
       "        vertical-align: middle;\n",
       "    }\n",
       "\n",
       "    .dataframe tbody tr th {\n",
       "        vertical-align: top;\n",
       "    }\n",
       "\n",
       "    .dataframe thead th {\n",
       "        text-align: right;\n",
       "    }\n",
       "</style>\n",
       "<table border=\"1\" class=\"dataframe\">\n",
       "  <thead>\n",
       "    <tr style=\"text-align: right;\">\n",
       "      <th></th>\n",
       "      <th>url</th>\n",
       "      <th>10sec_rendering_time</th>\n",
       "      <th>atf_integral</th>\n",
       "      <th>atf_instant</th>\n",
       "    </tr>\n",
       "  </thead>\n",
       "  <tbody>\n",
       "    <tr>\n",
       "      <th>3</th>\n",
       "      <td>google</td>\n",
       "      <td>14200.0</td>\n",
       "      <td>8280.00000</td>\n",
       "      <td>3312.4</td>\n",
       "    </tr>\n",
       "    <tr>\n",
       "      <th>4</th>\n",
       "      <td>google</td>\n",
       "      <td>14100.0</td>\n",
       "      <td>7663.00000</td>\n",
       "      <td>2790.3</td>\n",
       "    </tr>\n",
       "    <tr>\n",
       "      <th>5</th>\n",
       "      <td>yahoo</td>\n",
       "      <td>15900.0</td>\n",
       "      <td>5677.84810</td>\n",
       "      <td>12722.6</td>\n",
       "    </tr>\n",
       "    <tr>\n",
       "      <th>7</th>\n",
       "      <td>google</td>\n",
       "      <td>14500.0</td>\n",
       "      <td>6647.00000</td>\n",
       "      <td>3808.6</td>\n",
       "    </tr>\n",
       "    <tr>\n",
       "      <th>9</th>\n",
       "      <td>yahoo</td>\n",
       "      <td>7100.0</td>\n",
       "      <td>6354.91464</td>\n",
       "      <td>15276.2</td>\n",
       "    </tr>\n",
       "  </tbody>\n",
       "</table>\n",
       "</div>"
      ],
      "text/plain": [
       "      url  10sec_rendering_time  atf_integral  atf_instant\n",
       "3  google               14200.0    8280.00000       3312.4\n",
       "4  google               14100.0    7663.00000       2790.3\n",
       "5   yahoo               15900.0    5677.84810      12722.6\n",
       "7  google               14500.0    6647.00000       3808.6\n",
       "9   yahoo                7100.0    6354.91464      15276.2"
      ]
     },
     "execution_count": 3,
     "metadata": {},
     "output_type": "execute_result"
    }
   ],
   "source": [
    "df[['url', '10sec_rendering_time','atf_integral', 'atf_instant']].head()"
   ]
  },
  {
   "cell_type": "code",
   "execution_count": 4,
   "metadata": {},
   "outputs": [
    {
     "name": "stdout",
     "output_type": "stream",
     "text": [
      "youtube 8\n",
      "google 1589\n",
      "microsoft 575\n",
      "wikipedia 1273\n",
      "yahoo 318\n",
      "reddit 240\n",
      "bbc 580\n"
     ]
    }
   ],
   "source": [
    "for u in set(df['url']):\n",
    "    print('{} {}'.format(u, len(df[df['url'] == u]['measurement_id'])))"
   ]
  },
  {
   "cell_type": "code",
   "execution_count": 5,
   "metadata": {},
   "outputs": [
    {
     "data": {
      "text/plain": [
       "10sec_rendering_time    4583\n",
       "14sec_rendering_time    4583\n",
       "3sec_rendering_time     4583\n",
       "as_holders              4570\n",
       "ases                    4570\n",
       "atf                     4583\n",
       "atf_instant             4583\n",
       "atf_integral            4583\n",
       "bi_atf                  4583\n",
       "bi_plt                  4583\n",
       "cell_id                 4583\n",
       "count_pixels            4583\n",
       "dnsLookup               4583\n",
       "dom                     4583\n",
       "fetchTime               4583\n",
       "ii_atf                  4583\n",
       "ii_plt                  4583\n",
       "img_atf                 4583\n",
       "ip_ttl                  4583\n",
       "locaton_area_code       4583\n",
       "measurement_id          4583\n",
       "node_id                 4583\n",
       "number_of_css           4583\n",
       "number_of_img           4583\n",
       "number_of_misc          4583\n",
       "number_of_script        4583\n",
       "number_of_total         4583\n",
       "object_size_css         4583\n",
       "object_size_img         4583\n",
       "object_size_misc        4583\n",
       "object_size_script      4583\n",
       "object_size_total       4583\n",
       "oi_atf                  4583\n",
       "oi_plt                  4583\n",
       "operator                4583\n",
       "pltStart                4583\n",
       "pltUserTime             4583\n",
       "radio_technology        4583\n",
       "rend_start_time         4583\n",
       "requestTime             4583\n",
       "rsrp                    4583\n",
       "rsrq                    4583\n",
       "rssi                    4583\n",
       "serverResponseTime      4583\n",
       "tcpConct                4583\n",
       "tlsHandshake            4583\n",
       "ttfb                    4583\n",
       "url                     4583\n",
       "is_mobile               4583\n",
       "dtype: int64"
      ]
     },
     "execution_count": 5,
     "metadata": {},
     "output_type": "execute_result"
    }
   ],
   "source": [
    "df.count()"
   ]
  },
  {
   "cell_type": "code",
   "execution_count": 6,
   "metadata": {},
   "outputs": [
    {
     "name": "stdout",
     "output_type": "stream",
     "text": [
      "youtube: 3.2046961784362793 | 81.0 | 15.0 | 51.0 | 9.0 | 7.0\n",
      "google: 0.2060384750366211 | 120.0 | 33.0 | 87.0 | 11.0 | 11.0\n",
      "microsoft: 0.9887466430664062 | 40.0 | 1.0 | 13.0 | 9.0 | 4.0\n",
      "wikipedia: 1.0257654190063477 | 43.0 | 2.0 | 30.0 | 5.0 | 2.0\n",
      "yahoo: 2.5796165466308594 | 150.0 | 7.0 | 28.5 | 85.0 | 4.0\n",
      "reddit: 0.3106656074523926 | 122.0 | 38.0 | 46.0 | 13.0 | 10.0\n",
      "bbc: 0.31167030334472656 | 102.0 | 9.0 | 50.0 | 31.0 | 4.0\n"
     ]
    }
   ],
   "source": [
    "for u in set(df['url']):\n",
    "    d = df[df['url'] == u] \n",
    "    print('{}: {} | {} | {} | {} | {} | {}'.format(u, \n",
    "                                    np.median(d['object_size_total']), \n",
    "                                    np.median(d['number_of_total']),\n",
    "                                   np.median(d['img_atf']),\n",
    "                                    np.median(d['number_of_img']),\n",
    "                                   np.median(d['number_of_script']),\n",
    "                                   np.median(d['number_of_css'])))"
   ]
  },
  {
   "cell_type": "code",
   "execution_count": null,
   "metadata": {},
   "outputs": [],
   "source": []
  },
  {
   "cell_type": "code",
   "execution_count": null,
   "metadata": {},
   "outputs": [],
   "source": []
  }
 ],
 "metadata": {
  "kernelspec": {
   "display_name": "Python 3",
   "language": "python",
   "name": "python3"
  },
  "language_info": {
   "codemirror_mode": {
    "name": "ipython",
    "version": 3
   },
   "file_extension": ".py",
   "mimetype": "text/x-python",
   "name": "python",
   "nbconvert_exporter": "python",
   "pygments_lexer": "ipython3",
   "version": "3.7.1"
  }
 },
 "nbformat": 4,
 "nbformat_minor": 2
}
